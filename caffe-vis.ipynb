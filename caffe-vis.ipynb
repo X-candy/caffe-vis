{
 "cells": [
  {
   "cell_type": "code",
   "execution_count": null,
   "metadata": {},
   "outputs": [],
   "source": [
    "import numpy as np\n",
    "import matplotlib.pyplot as plt\n",
    "\n",
    "\n",
    "def visualize_weights(net, layer_name, padding=4, filename=''):\n",
    "    # The parameters are a list of [weights, biases]\n",
    "    data = np.copy(net.params[layer_name][0].data)\n",
    "    # N is the total number of convolutions\n",
    "    N = data.shape[0]*data.shape[1]\n",
    "    # Ensure the resulting image is square\n",
    "    filters_per_row = int(np.ceil(np.sqrt(N)))\n",
    "    # Assume the filters are square\n",
    "    filter_size = data.shape[2]\n",
    "    # Size of the result image including padding\n",
    "    result_size = filters_per_row*(filter_size + padding) - padding\n",
    "    # Initialize result image to all zeros\n",
    "    result = np.zeros((result_size, result_size))\n",
    "\n",
    "    # Tile the filters into the result image\n",
    "    filter_x = 0\n",
    "    filter_y = 0\n",
    "    for n in range(data.shape[0]):\n",
    "        for c in range(data.shape[1]):\n",
    "            if filter_x == filters_per_row:\n",
    "                filter_y += 1\n",
    "                filter_x = 0\n",
    "            for i in range(filter_size):\n",
    "                for j in range(filter_size):\n",
    "                    result[filter_y*(filter_size + padding) + i, filter_x*(filter_size + padding) + j] = data[n, c, i, j]\n",
    "            filter_x += 1\n",
    "\n",
    "    # Normalize image to 0-1\n",
    "    min = result.min()\n",
    "    max = result.max()\n",
    "    result = (result - min) / (max - min)\n",
    "\n",
    "    # Plot figure\n",
    "    plt.figure(figsize=(10, 10))\n",
    "    plt.axis('off')\n",
    "    plt.imshow(result, cmap='gray', interpolation='nearest')\n",
    "\n",
    "    # Save plot if filename is set\n",
    "    if filename != '':\n",
    "        plt.savefig(filename, bbox_inches='tight', pad_inches=0)\n",
    "\n",
    "    plt.show()\n",
    "\n"
   ]
  },
  {
   "cell_type": "code",
   "execution_count": null,
   "metadata": {},
   "outputs": [],
   "source": [
    "from visualize_caffe import *\n",
    "import sys\n",
    "\n",
    "# Make sure caffe can be found\n",
    "sys.path.append('../caffe/python/')\n",
    "\n",
    "import caffe\n",
    "\n",
    "\n",
    "# Load model\n",
    "net = caffe.Net('/home/smistad/vessel_net/deploy.prototxt',\n",
    "                '/home/smistad/vessel_net/snapshot_iter_3800.caffemodel',\n",
    "                caffe.TEST)\n",
    "\n",
    "visualize_weights(net, 'conv1', filename='conv1.png')\n",
    "visualize_weights(net, 'conv2', filename='conv2.png')"
   ]
  }
 ],
 "metadata": {
  "kernelspec": {
   "display_name": "Python 2",
   "language": "python",
   "name": "python2"
  },
  "language_info": {
   "codemirror_mode": {
    "name": "ipython",
    "version": 2
   },
   "file_extension": ".py",
   "mimetype": "text/x-python",
   "name": "python",
   "nbconvert_exporter": "python",
   "pygments_lexer": "ipython2",
   "version": "2.7.15rc1"
  }
 },
 "nbformat": 4,
 "nbformat_minor": 2
}
